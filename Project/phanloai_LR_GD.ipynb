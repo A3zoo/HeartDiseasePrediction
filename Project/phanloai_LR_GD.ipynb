{
 "cells": [
  {
   "cell_type": "code",
   "execution_count": 2,
   "metadata": {},
   "outputs": [],
   "source": [
    "from sklearn.preprocessing import StandardScaler\n",
    "from sklearn.preprocessing import LabelEncoder\n",
    "from sklearn.preprocessing import MinMaxScaler\n",
    "import pandas as pd\n",
    "import numpy as np\n",
    "import matplotlib.pyplot as plt\n",
    "import seaborn as sns\n",
    "from sklearn.feature_selection import chi2\n",
    "from sklearn.linear_model import LassoCV\n",
    "from sklearn.linear_model import RidgeCV"
   ]
  },
  {
   "cell_type": "code",
   "execution_count": 15,
   "metadata": {},
   "outputs": [],
   "source": [
    "data = pd.read_csv(\"D:/CNTT/Document/Nam 3/HK2/KHAI PHÁ DỮ LIỆU/FinalProject/Tiền xử lý/data_clean.csv\")"
   ]
  },
  {
   "cell_type": "code",
   "execution_count": 16,
   "metadata": {},
   "outputs": [
    {
     "name": "stdout",
     "output_type": "stream",
     "text": [
      "<class 'pandas.core.frame.DataFrame'>\n",
      "RangeIndex: 40333 entries, 0 to 40332\n",
      "Data columns (total 25 columns):\n",
      " #   Column                 Non-Null Count  Dtype  \n",
      "---  ------                 --------------  -----  \n",
      " 0   Sex                    40333 non-null  int64  \n",
      " 1   GeneralHealth          40333 non-null  int64  \n",
      " 2   PhysicalHealthDays     40333 non-null  float64\n",
      " 3   MentalHealthDays       40333 non-null  int64  \n",
      " 4   PhysicalActivities     40333 non-null  int64  \n",
      " 5   SleepHours             40333 non-null  int64  \n",
      " 6   HadHeartAttack         40333 non-null  int64  \n",
      " 7   HadAngina              40333 non-null  int64  \n",
      " 8   HadStroke              40333 non-null  int64  \n",
      " 9   HadAsthma              40333 non-null  int64  \n",
      " 10  HadSkinCancer          40333 non-null  int64  \n",
      " 11  HadCOPD                40333 non-null  int64  \n",
      " 12  HadDepressiveDisorder  40333 non-null  int64  \n",
      " 13  HadKidneyDisease       40333 non-null  int64  \n",
      " 14  HadArthritis           40333 non-null  int64  \n",
      " 15  HadDiabetes            40333 non-null  int64  \n",
      " 16  SmokerStatus           40333 non-null  int64  \n",
      " 17  RaceEthnicityCategory  40333 non-null  int64  \n",
      " 18  AgeCategory            40333 non-null  int64  \n",
      " 19  HeightInMeters         40333 non-null  float64\n",
      " 20  BMI                    40333 non-null  float64\n",
      " 21  AlcoholDrinkers        40333 non-null  int64  \n",
      " 22  PneumoVaxEver          40333 non-null  int64  \n",
      " 23  HighRiskLastYear       40333 non-null  int64  \n",
      " 24  CovidPos               40333 non-null  int64  \n",
      "dtypes: float64(3), int64(22)\n",
      "memory usage: 7.7 MB\n"
     ]
    }
   ],
   "source": [
    "data.info()"
   ]
  },
  {
   "cell_type": "code",
   "execution_count": 17,
   "metadata": {},
   "outputs": [
    {
     "data": {
      "text/plain": [
       "Index(['Sex', 'GeneralHealth', 'PhysicalHealthDays', 'MentalHealthDays',\n",
       "       'PhysicalActivities', 'SleepHours', 'HadHeartAttack', 'HadAngina',\n",
       "       'HadStroke', 'HadAsthma', 'HadSkinCancer', 'HadCOPD',\n",
       "       'HadDepressiveDisorder', 'HadKidneyDisease', 'HadArthritis',\n",
       "       'HadDiabetes', 'SmokerStatus', 'RaceEthnicityCategory', 'AgeCategory',\n",
       "       'HeightInMeters', 'BMI', 'AlcoholDrinkers', 'PneumoVaxEver',\n",
       "       'HighRiskLastYear', 'CovidPos'],\n",
       "      dtype='object')"
      ]
     },
     "execution_count": 17,
     "metadata": {},
     "output_type": "execute_result"
    }
   ],
   "source": [
    "data.columns"
   ]
  },
  {
   "cell_type": "code",
   "execution_count": 3,
   "metadata": {},
   "outputs": [],
   "source": [
    "df = pd.read_csv(\"D:/CNTT/Document/Nam 3/HK2/KHAI PHÁ DỮ LIỆU/FinalProject/Tiền xử lý/tranning_data.csv\")"
   ]
  },
  {
   "cell_type": "code",
   "execution_count": 3,
   "metadata": {},
   "outputs": [
    {
     "data": {
      "text/html": [
       "<div>\n",
       "<style scoped>\n",
       "    .dataframe tbody tr th:only-of-type {\n",
       "        vertical-align: middle;\n",
       "    }\n",
       "\n",
       "    .dataframe tbody tr th {\n",
       "        vertical-align: top;\n",
       "    }\n",
       "\n",
       "    .dataframe thead th {\n",
       "        text-align: right;\n",
       "    }\n",
       "</style>\n",
       "<table border=\"1\" class=\"dataframe\">\n",
       "  <thead>\n",
       "    <tr style=\"text-align: right;\">\n",
       "      <th></th>\n",
       "      <th>pca1</th>\n",
       "      <th>pca2</th>\n",
       "      <th>pca3</th>\n",
       "      <th>pca4</th>\n",
       "      <th>pca5</th>\n",
       "      <th>pca6</th>\n",
       "      <th>pca7</th>\n",
       "      <th>pca8</th>\n",
       "      <th>pca9</th>\n",
       "      <th>pca10</th>\n",
       "      <th>...</th>\n",
       "      <th>pca12</th>\n",
       "      <th>pca13</th>\n",
       "      <th>pca14</th>\n",
       "      <th>pca15</th>\n",
       "      <th>pca16</th>\n",
       "      <th>pca17</th>\n",
       "      <th>pca18</th>\n",
       "      <th>pca19</th>\n",
       "      <th>pca20</th>\n",
       "      <th>HadHeartAttack</th>\n",
       "    </tr>\n",
       "  </thead>\n",
       "  <tbody>\n",
       "    <tr>\n",
       "      <th>0</th>\n",
       "      <td>-15.109970</td>\n",
       "      <td>6.031999</td>\n",
       "      <td>0.438462</td>\n",
       "      <td>2.547293</td>\n",
       "      <td>-0.827609</td>\n",
       "      <td>-0.307119</td>\n",
       "      <td>0.109011</td>\n",
       "      <td>-1.638021</td>\n",
       "      <td>0.926200</td>\n",
       "      <td>-0.751768</td>\n",
       "      <td>...</td>\n",
       "      <td>-0.191913</td>\n",
       "      <td>0.248061</td>\n",
       "      <td>-0.168218</td>\n",
       "      <td>0.019242</td>\n",
       "      <td>-0.096268</td>\n",
       "      <td>0.176926</td>\n",
       "      <td>-0.037407</td>\n",
       "      <td>-0.111460</td>\n",
       "      <td>0.044458</td>\n",
       "      <td>0</td>\n",
       "    </tr>\n",
       "    <tr>\n",
       "      <th>1</th>\n",
       "      <td>-15.044608</td>\n",
       "      <td>6.051794</td>\n",
       "      <td>-2.616730</td>\n",
       "      <td>-3.973544</td>\n",
       "      <td>-0.376247</td>\n",
       "      <td>0.186020</td>\n",
       "      <td>1.486749</td>\n",
       "      <td>-0.571280</td>\n",
       "      <td>-0.244716</td>\n",
       "      <td>-1.133013</td>\n",
       "      <td>...</td>\n",
       "      <td>-0.346983</td>\n",
       "      <td>0.007719</td>\n",
       "      <td>-0.214735</td>\n",
       "      <td>0.435704</td>\n",
       "      <td>-0.659643</td>\n",
       "      <td>-0.117809</td>\n",
       "      <td>0.026725</td>\n",
       "      <td>-0.309067</td>\n",
       "      <td>-0.136708</td>\n",
       "      <td>0</td>\n",
       "    </tr>\n",
       "    <tr>\n",
       "      <th>2</th>\n",
       "      <td>-14.997394</td>\n",
       "      <td>5.501777</td>\n",
       "      <td>-2.352792</td>\n",
       "      <td>-3.794706</td>\n",
       "      <td>-0.595373</td>\n",
       "      <td>-0.019866</td>\n",
       "      <td>-1.209146</td>\n",
       "      <td>0.316478</td>\n",
       "      <td>-0.380944</td>\n",
       "      <td>0.457354</td>\n",
       "      <td>...</td>\n",
       "      <td>-0.574467</td>\n",
       "      <td>-0.671132</td>\n",
       "      <td>-0.252618</td>\n",
       "      <td>-0.164043</td>\n",
       "      <td>0.010531</td>\n",
       "      <td>0.337231</td>\n",
       "      <td>-0.061646</td>\n",
       "      <td>-0.154560</td>\n",
       "      <td>0.054877</td>\n",
       "      <td>1</td>\n",
       "    </tr>\n",
       "    <tr>\n",
       "      <th>3</th>\n",
       "      <td>-14.997394</td>\n",
       "      <td>5.501777</td>\n",
       "      <td>-2.352792</td>\n",
       "      <td>-3.794706</td>\n",
       "      <td>-0.595373</td>\n",
       "      <td>-0.019866</td>\n",
       "      <td>-1.209146</td>\n",
       "      <td>0.316478</td>\n",
       "      <td>-0.380944</td>\n",
       "      <td>0.457354</td>\n",
       "      <td>...</td>\n",
       "      <td>-0.574467</td>\n",
       "      <td>-0.671132</td>\n",
       "      <td>-0.252618</td>\n",
       "      <td>-0.164043</td>\n",
       "      <td>0.010531</td>\n",
       "      <td>0.337231</td>\n",
       "      <td>-0.061646</td>\n",
       "      <td>-0.154560</td>\n",
       "      <td>0.054877</td>\n",
       "      <td>1</td>\n",
       "    </tr>\n",
       "    <tr>\n",
       "      <th>4</th>\n",
       "      <td>-14.908467</td>\n",
       "      <td>5.666215</td>\n",
       "      <td>1.407435</td>\n",
       "      <td>4.374798</td>\n",
       "      <td>-0.867754</td>\n",
       "      <td>0.295491</td>\n",
       "      <td>0.012870</td>\n",
       "      <td>0.750792</td>\n",
       "      <td>-0.217351</td>\n",
       "      <td>0.678462</td>\n",
       "      <td>...</td>\n",
       "      <td>0.113034</td>\n",
       "      <td>0.027275</td>\n",
       "      <td>-0.217452</td>\n",
       "      <td>0.142748</td>\n",
       "      <td>0.021218</td>\n",
       "      <td>0.090048</td>\n",
       "      <td>0.001196</td>\n",
       "      <td>-0.040316</td>\n",
       "      <td>0.052575</td>\n",
       "      <td>0</td>\n",
       "    </tr>\n",
       "  </tbody>\n",
       "</table>\n",
       "<p>5 rows × 21 columns</p>\n",
       "</div>"
      ],
      "text/plain": [
       "        pca1      pca2      pca3      pca4      pca5      pca6      pca7  \\\n",
       "0 -15.109970  6.031999  0.438462  2.547293 -0.827609 -0.307119  0.109011   \n",
       "1 -15.044608  6.051794 -2.616730 -3.973544 -0.376247  0.186020  1.486749   \n",
       "2 -14.997394  5.501777 -2.352792 -3.794706 -0.595373 -0.019866 -1.209146   \n",
       "3 -14.997394  5.501777 -2.352792 -3.794706 -0.595373 -0.019866 -1.209146   \n",
       "4 -14.908467  5.666215  1.407435  4.374798 -0.867754  0.295491  0.012870   \n",
       "\n",
       "       pca8      pca9     pca10  ...     pca12     pca13     pca14     pca15  \\\n",
       "0 -1.638021  0.926200 -0.751768  ... -0.191913  0.248061 -0.168218  0.019242   \n",
       "1 -0.571280 -0.244716 -1.133013  ... -0.346983  0.007719 -0.214735  0.435704   \n",
       "2  0.316478 -0.380944  0.457354  ... -0.574467 -0.671132 -0.252618 -0.164043   \n",
       "3  0.316478 -0.380944  0.457354  ... -0.574467 -0.671132 -0.252618 -0.164043   \n",
       "4  0.750792 -0.217351  0.678462  ...  0.113034  0.027275 -0.217452  0.142748   \n",
       "\n",
       "      pca16     pca17     pca18     pca19     pca20  HadHeartAttack  \n",
       "0 -0.096268  0.176926 -0.037407 -0.111460  0.044458               0  \n",
       "1 -0.659643 -0.117809  0.026725 -0.309067 -0.136708               0  \n",
       "2  0.010531  0.337231 -0.061646 -0.154560  0.054877               1  \n",
       "3  0.010531  0.337231 -0.061646 -0.154560  0.054877               1  \n",
       "4  0.021218  0.090048  0.001196 -0.040316  0.052575               0  \n",
       "\n",
       "[5 rows x 21 columns]"
      ]
     },
     "execution_count": 3,
     "metadata": {},
     "output_type": "execute_result"
    }
   ],
   "source": [
    "df.head()"
   ]
  },
  {
   "cell_type": "code",
   "execution_count": 4,
   "metadata": {},
   "outputs": [],
   "source": [
    "y = df['HadHeartAttack']\n",
    "X = df.drop(['HadHeartAttack'], axis=1)"
   ]
  },
  {
   "cell_type": "code",
   "execution_count": 5,
   "metadata": {},
   "outputs": [],
   "source": [
    "from sklearn.model_selection import train_test_split\n",
    "X_train, X_test, y_train, y_test = train_test_split(X, y, test_size=0.2, random_state=42)"
   ]
  },
  {
   "cell_type": "code",
   "execution_count": 6,
   "metadata": {},
   "outputs": [
    {
     "data": {
      "text/plain": [
       "HadHeartAttack\n",
       "1    24572\n",
       "0    24330\n",
       "Name: count, dtype: int64"
      ]
     },
     "execution_count": 6,
     "metadata": {},
     "output_type": "execute_result"
    }
   ],
   "source": [
    "y_train.value_counts()"
   ]
  },
  {
   "cell_type": "markdown",
   "metadata": {},
   "source": [
    "Phân loại bằng Logitic regression"
   ]
  },
  {
   "cell_type": "code",
   "execution_count": 24,
   "metadata": {},
   "outputs": [
    {
     "name": "stdout",
     "output_type": "stream",
     "text": [
      "Best parameters found: {'C': 10, 'penalty': 'l1', 'solver': 'liblinear'}\n",
      "Best cross-validation accuracy: 0.8303059027327455\n",
      "Test set accuracy: 0.7947816129559954\n"
     ]
    },
    {
     "name": "stderr",
     "output_type": "stream",
     "text": [
      "c:\\Users\\PHONG\\AppData\\Local\\Programs\\Python\\Python39\\lib\\site-packages\\sklearn\\model_selection\\_validation.py:547: FitFailedWarning: \n",
      "175 fits failed out of a total of 300.\n",
      "The score on these train-test partitions for these parameters will be set to nan.\n",
      "If these failures are not expected, you can try to debug them by setting error_score='raise'.\n",
      "\n",
      "Below are more details about the failures:\n",
      "--------------------------------------------------------------------------------\n",
      "25 fits failed with the following error:\n",
      "Traceback (most recent call last):\n",
      "  File \"c:\\Users\\PHONG\\AppData\\Local\\Programs\\Python\\Python39\\lib\\site-packages\\sklearn\\model_selection\\_validation.py\", line 895, in _fit_and_score\n",
      "    estimator.fit(X_train, y_train, **fit_params)\n",
      "  File \"c:\\Users\\PHONG\\AppData\\Local\\Programs\\Python\\Python39\\lib\\site-packages\\sklearn\\base.py\", line 1474, in wrapper\n",
      "    return fit_method(estimator, *args, **kwargs)\n",
      "  File \"c:\\Users\\PHONG\\AppData\\Local\\Programs\\Python\\Python39\\lib\\site-packages\\sklearn\\linear_model\\_logistic.py\", line 1172, in fit\n",
      "    solver = _check_solver(self.solver, self.penalty, self.dual)\n",
      "  File \"c:\\Users\\PHONG\\AppData\\Local\\Programs\\Python\\Python39\\lib\\site-packages\\sklearn\\linear_model\\_logistic.py\", line 67, in _check_solver\n",
      "    raise ValueError(\n",
      "ValueError: Solver lbfgs supports only 'l2' or None penalties, got l1 penalty.\n",
      "\n",
      "--------------------------------------------------------------------------------\n",
      "25 fits failed with the following error:\n",
      "Traceback (most recent call last):\n",
      "  File \"c:\\Users\\PHONG\\AppData\\Local\\Programs\\Python\\Python39\\lib\\site-packages\\sklearn\\model_selection\\_validation.py\", line 895, in _fit_and_score\n",
      "    estimator.fit(X_train, y_train, **fit_params)\n",
      "  File \"c:\\Users\\PHONG\\AppData\\Local\\Programs\\Python\\Python39\\lib\\site-packages\\sklearn\\base.py\", line 1474, in wrapper\n",
      "    return fit_method(estimator, *args, **kwargs)\n",
      "  File \"c:\\Users\\PHONG\\AppData\\Local\\Programs\\Python\\Python39\\lib\\site-packages\\sklearn\\linear_model\\_logistic.py\", line 1172, in fit\n",
      "    solver = _check_solver(self.solver, self.penalty, self.dual)\n",
      "  File \"c:\\Users\\PHONG\\AppData\\Local\\Programs\\Python\\Python39\\lib\\site-packages\\sklearn\\linear_model\\_logistic.py\", line 67, in _check_solver\n",
      "    raise ValueError(\n",
      "ValueError: Solver lbfgs supports only 'l2' or None penalties, got elasticnet penalty.\n",
      "\n",
      "--------------------------------------------------------------------------------\n",
      "25 fits failed with the following error:\n",
      "Traceback (most recent call last):\n",
      "  File \"c:\\Users\\PHONG\\AppData\\Local\\Programs\\Python\\Python39\\lib\\site-packages\\sklearn\\model_selection\\_validation.py\", line 895, in _fit_and_score\n",
      "    estimator.fit(X_train, y_train, **fit_params)\n",
      "  File \"c:\\Users\\PHONG\\AppData\\Local\\Programs\\Python\\Python39\\lib\\site-packages\\sklearn\\base.py\", line 1474, in wrapper\n",
      "    return fit_method(estimator, *args, **kwargs)\n",
      "  File \"c:\\Users\\PHONG\\AppData\\Local\\Programs\\Python\\Python39\\lib\\site-packages\\sklearn\\linear_model\\_logistic.py\", line 1172, in fit\n",
      "    solver = _check_solver(self.solver, self.penalty, self.dual)\n",
      "  File \"c:\\Users\\PHONG\\AppData\\Local\\Programs\\Python\\Python39\\lib\\site-packages\\sklearn\\linear_model\\_logistic.py\", line 75, in _check_solver\n",
      "    raise ValueError(\n",
      "ValueError: Only 'saga' solver supports elasticnet penalty, got solver=liblinear.\n",
      "\n",
      "--------------------------------------------------------------------------------\n",
      "25 fits failed with the following error:\n",
      "Traceback (most recent call last):\n",
      "  File \"c:\\Users\\PHONG\\AppData\\Local\\Programs\\Python\\Python39\\lib\\site-packages\\sklearn\\model_selection\\_validation.py\", line 895, in _fit_and_score\n",
      "    estimator.fit(X_train, y_train, **fit_params)\n",
      "  File \"c:\\Users\\PHONG\\AppData\\Local\\Programs\\Python\\Python39\\lib\\site-packages\\sklearn\\base.py\", line 1474, in wrapper\n",
      "    return fit_method(estimator, *args, **kwargs)\n",
      "  File \"c:\\Users\\PHONG\\AppData\\Local\\Programs\\Python\\Python39\\lib\\site-packages\\sklearn\\linear_model\\_logistic.py\", line 1182, in fit\n",
      "    raise ValueError(\"l1_ratio must be specified when penalty is elasticnet.\")\n",
      "ValueError: l1_ratio must be specified when penalty is elasticnet.\n",
      "\n",
      "--------------------------------------------------------------------------------\n",
      "75 fits failed with the following error:\n",
      "Traceback (most recent call last):\n",
      "  File \"c:\\Users\\PHONG\\AppData\\Local\\Programs\\Python\\Python39\\lib\\site-packages\\sklearn\\model_selection\\_validation.py\", line 895, in _fit_and_score\n",
      "    estimator.fit(X_train, y_train, **fit_params)\n",
      "  File \"c:\\Users\\PHONG\\AppData\\Local\\Programs\\Python\\Python39\\lib\\site-packages\\sklearn\\base.py\", line 1467, in wrapper\n",
      "    estimator._validate_params()\n",
      "  File \"c:\\Users\\PHONG\\AppData\\Local\\Programs\\Python\\Python39\\lib\\site-packages\\sklearn\\base.py\", line 666, in _validate_params\n",
      "    validate_parameter_constraints(\n",
      "  File \"c:\\Users\\PHONG\\AppData\\Local\\Programs\\Python\\Python39\\lib\\site-packages\\sklearn\\utils\\_param_validation.py\", line 95, in validate_parameter_constraints\n",
      "    raise InvalidParameterError(\n",
      "sklearn.utils._param_validation.InvalidParameterError: The 'penalty' parameter of LogisticRegression must be a str among {'elasticnet', 'l1', 'l2'} or None. Got 'none' instead.\n",
      "\n",
      "  warnings.warn(some_fits_failed_message, FitFailedWarning)\n",
      "c:\\Users\\PHONG\\AppData\\Local\\Programs\\Python\\Python39\\lib\\site-packages\\sklearn\\model_selection\\_search.py:1051: UserWarning: One or more of the test scores are non-finite: [       nan 0.82686048 0.82515763 0.82473774 0.82505989 0.82469232\n",
      "        nan        nan        nan        nan        nan        nan\n",
      "        nan 0.82971687 0.82961252 0.8297835  0.82979105 0.82975421\n",
      "        nan        nan        nan        nan        nan        nan\n",
      "        nan 0.83019297 0.83019297 0.83019087 0.83015353 0.83015353\n",
      "        nan        nan        nan        nan        nan        nan\n",
      "        nan 0.8303059  0.83027739 0.83025166 0.83023126 0.83026178\n",
      "        nan        nan        nan        nan        nan        nan\n",
      "        nan 0.8302234  0.83023081 0.8301752  0.8302234  0.83023081\n",
      "        nan        nan        nan        nan        nan        nan]\n",
      "  warnings.warn(\n"
     ]
    }
   ],
   "source": [
    "from sklearn.model_selection import GridSearchCV\n",
    "from sklearn.linear_model import LogisticRegression\n",
    "from sklearn.metrics import accuracy_score\n",
    "\n",
    "# Khởi tạo mô hình logistic regression\n",
    "model = LogisticRegression()\n",
    "\n",
    "# Định nghĩa lưới các giá trị tham số\n",
    "param_grid = {\n",
    "    'penalty': ['l1', 'l2', 'elasticnet', 'none'],\n",
    "    'C': [0.01, 0.1, 1, 10, 100],\n",
    "    'solver': ['lbfgs', 'liblinear', 'saga']\n",
    "}\n",
    "\n",
    "# Khởi tạo GridSearchCV\n",
    "grid_search = GridSearchCV(estimator=model, param_grid=param_grid, cv=5, scoring='precision')\n",
    "\n",
    "# Thực hiện tìm kiếm trên tập huấn luyện\n",
    "grid_search.fit(X_train, y_train)\n",
    "\n",
    "# Hiển thị các tham số tối ưu\n",
    "print(f'Best parameters found: {grid_search.best_params_}')\n",
    "print(f'Best cross-validation accuracy: {grid_search.best_score_}')\n",
    "# Sử dụng mô hình với các tham số tối ưu để dự đoán trên tập kiểm tra\n",
    "best_model = grid_search.best_estimator_\n",
    "y_pred = best_model.predict(X_test)\n",
    "\n",
    "# Đánh giá mô hình\n",
    "precision = accuracy_score(y_test, y_pred)\n",
    "print(f'Test set accuracy: {precision}')"
   ]
  },
  {
   "cell_type": "code",
   "execution_count": 25,
   "metadata": {},
   "outputs": [
    {
     "name": "stdout",
     "output_type": "stream",
     "text": [
      "              precision    recall  f1-score   support\n",
      "\n",
      "           0       0.77      0.85      0.81      6234\n",
      "           1       0.82      0.74      0.78      5992\n",
      "\n",
      "    accuracy                           0.79     12226\n",
      "   macro avg       0.80      0.79      0.79     12226\n",
      "weighted avg       0.80      0.79      0.79     12226\n",
      "\n"
     ]
    }
   ],
   "source": [
    "from sklearn.metrics import classification_report\n",
    "cl_rep_LR = classification_report(y_test,y_pred)\n",
    "print(cl_rep_LR)"
   ]
  },
  {
   "cell_type": "code",
   "execution_count": 26,
   "metadata": {},
   "outputs": [
    {
     "name": "stdout",
     "output_type": "stream",
     "text": [
      "Model saved to C:/Users/PHONG/Desktop/Model/best_model_LR.pkl\n"
     ]
    }
   ],
   "source": [
    "import joblib\n",
    "\n",
    "# Lưu mô hình tốt nhất vào một file\n",
    "joblib_file_LR = \"C:/Users/PHONG/Desktop/Model/best_model_LR.pkl\"\n",
    "joblib.dump(best_model, joblib_file_LR)\n",
    "\n",
    "print(f'Model saved to {joblib_file_LR}')"
   ]
  },
  {
   "cell_type": "markdown",
   "metadata": {},
   "source": [
    "Đọc file joblib_file_LR.pkl"
   ]
  },
  {
   "cell_type": "code",
   "execution_count": 27,
   "metadata": {},
   "outputs": [
    {
     "name": "stdout",
     "output_type": "stream",
     "text": [
      "LogisticRegression(C=10, penalty='l1', solver='liblinear')\n"
     ]
    }
   ],
   "source": [
    "# Đường dẫn đến file .pkl chứa mô hình\n",
    "joblib_file_LR = \"C:/Users/PHONG/Desktop/Model/best_model_LR.pkl\"\n",
    "\n",
    "# Load mô hình từ file .pkl\n",
    "loaded_model = joblib.load(joblib_file_LR)\n",
    "\n",
    "# Kiểm tra mô hình đã được load\n",
    "print(loaded_model)\n"
   ]
  },
  {
   "cell_type": "markdown",
   "metadata": {},
   "source": [
    "Phân loại bằng Gradient descent"
   ]
  },
  {
   "cell_type": "code",
   "execution_count": 28,
   "metadata": {},
   "outputs": [
    {
     "name": "stdout",
     "output_type": "stream",
     "text": [
      "Best parameters found: {'eta0': 0.1, 'learning_rate': 'invscaling', 'max_iter': 1000}\n",
      "Best cross-validation accuracy: 0.8504947036781363\n",
      "Test set accuracy: 0.7933911336495992\n"
     ]
    }
   ],
   "source": [
    "from sklearn.model_selection import GridSearchCV, train_test_split\n",
    "from sklearn.linear_model import SGDClassifier\n",
    "from sklearn.metrics import accuracy_score\n",
    "\n",
    "\n",
    "# Khởi tạo mô hình logistic regression\n",
    "model_GD = SGDClassifier()\n",
    "\n",
    "# Định nghĩa lưới các giá trị tham số\n",
    "param_grid_GD = {\n",
    "    'learning_rate': ['optimal', 'invscaling'],\n",
    "    'eta0': [0.1, 0.01, 0.001, 0.0001],\n",
    "    'max_iter': [500, 1000, 1500, 2000]\n",
    "}\n",
    "\n",
    "# Khởi tạo GridSearchCV\n",
    "grid_search_GD = GridSearchCV(estimator=model_GD, param_grid=param_grid_GD, cv=5, scoring='precision')\n",
    "\n",
    "# Thực hiện tìm kiếm trên tập huấn luyện\n",
    "grid_search_GD.fit(X_train, y_train)\n",
    "\n",
    "# Hiển thị các tham số tối ưu\n",
    "print(f'Best parameters found: {grid_search_GD.best_params_}')\n",
    "print(f'Best cross-validation accuracy: {grid_search_GD.best_score_}')\n",
    "\n",
    "# Sử dụng mô hình với các tham số tối ưu để dự đoán trên tập kiểm tra\n",
    "best_model_GD = grid_search_GD.best_estimator_\n",
    "y_pred_GD = best_model_GD.predict(X_test)\n",
    "\n",
    "# Đánh giá mô hình\n",
    "precision_GD = accuracy_score(y_test, y_pred_GD)\n",
    "print(f'Test set accuracy: {precision_GD}')\n",
    "\n"
   ]
  },
  {
   "cell_type": "code",
   "execution_count": 29,
   "metadata": {},
   "outputs": [
    {
     "name": "stdout",
     "output_type": "stream",
     "text": [
      "              precision    recall  f1-score   support\n",
      "\n",
      "           0       0.77      0.85      0.81      6234\n",
      "           1       0.82      0.74      0.78      5992\n",
      "\n",
      "    accuracy                           0.79     12226\n",
      "   macro avg       0.80      0.79      0.79     12226\n",
      "weighted avg       0.80      0.79      0.79     12226\n",
      "\n"
     ]
    }
   ],
   "source": [
    "cl_rep_GD = classification_report(y_test,y_pred)\n",
    "print(cl_rep_GD)"
   ]
  },
  {
   "cell_type": "code",
   "execution_count": 30,
   "metadata": {},
   "outputs": [
    {
     "name": "stdout",
     "output_type": "stream",
     "text": [
      "Model saved to C:/Users/PHONG/Desktop/Model/best_model_GD.pkl\n"
     ]
    }
   ],
   "source": [
    "# Lưu mô hình tốt nhất vào một file\n",
    "joblib_file_GD = \"C:/Users/PHONG/Desktop/Model/best_model_GD.pkl\"\n",
    "joblib.dump(best_model_GD, joblib_file_GD)\n",
    "\n",
    "print(f'Model saved to {joblib_file_GD}')"
   ]
  },
  {
   "cell_type": "code",
   "execution_count": 31,
   "metadata": {},
   "outputs": [
    {
     "name": "stdout",
     "output_type": "stream",
     "text": [
      "SGDClassifier(eta0=0.1, learning_rate='invscaling')\n"
     ]
    }
   ],
   "source": [
    "# Đường dẫn đến file .pkl chứa mô hình\n",
    "joblib_file_GD = \"C:/Users/PHONG/Desktop/Model/best_model_GD.pkl\"\n",
    "\n",
    "# Load mô hình từ file .pkl\n",
    "loaded_model_GD = joblib.load(joblib_file_GD)\n",
    "\n",
    "# Kiểm tra mô hình đã được load\n",
    "print(loaded_model_GD)"
   ]
  }
 ],
 "metadata": {
  "kernelspec": {
   "display_name": ".venv",
   "language": "python",
   "name": "python3"
  },
  "language_info": {
   "codemirror_mode": {
    "name": "ipython",
    "version": 3
   },
   "file_extension": ".py",
   "mimetype": "text/x-python",
   "name": "python",
   "nbconvert_exporter": "python",
   "pygments_lexer": "ipython3",
   "version": "3.9.0"
  }
 },
 "nbformat": 4,
 "nbformat_minor": 2
}
