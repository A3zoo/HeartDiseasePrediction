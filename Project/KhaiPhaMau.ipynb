{
 "cells": [
  {
   "cell_type": "code",
   "execution_count": 1,
   "metadata": {},
   "outputs": [],
   "source": [
    "from sklearn.preprocessing import StandardScaler\n",
    "from sklearn.preprocessing import LabelEncoder\n",
    "from sklearn.preprocessing import MinMaxScaler\n",
    "import pandas as pd\n",
    "import numpy as np\n",
    "import matplotlib.pyplot as plt\n",
    "import seaborn as sns\n",
    "from sklearn.feature_selection import chi2\n",
    "from sklearn.linear_model import LassoCV\n",
    "from sklearn.linear_model import RidgeCV\n",
    "from imblearn.over_sampling import SMOTE"
   ]
  },
  {
   "cell_type": "code",
   "execution_count": 2,
   "metadata": {},
   "outputs": [],
   "source": [
    "df = pd.read_csv(\"../data/Final_Augmented_dataset_Diseases_and_Symptoms.csv\")"
   ]
  },
  {
   "cell_type": "code",
   "execution_count": 9,
   "metadata": {},
   "outputs": [],
   "source": [
    "zero_ratios = df.eq(0).mean()\n",
    "\n",
    "# Xác định các cột mà tỷ lệ giá trị 0 vượt qua ngưỡng 90%\n",
    "columns_to_drop = zero_ratios[zero_ratios > 0.97].index\n",
    "\n",
    "# Loại bỏ các cột đó khỏi DataFrame\n",
    "df_filtered = df.drop(columns=columns_to_drop)"
   ]
  },
  {
   "cell_type": "code",
   "execution_count": 8,
   "metadata": {},
   "outputs": [
    {
     "name": "stdout",
     "output_type": "stream",
     "text": [
      "<class 'pandas.core.frame.DataFrame'>\n",
      "RangeIndex: 246945 entries, 0 to 246944\n",
      "Data columns (total 57 columns):\n",
      " #   Column                                          Non-Null Count   Dtype \n",
      "---  ------                                          --------------   ----- \n",
      " 0   diseases                                        246945 non-null  object\n",
      " 1   anxiety and nervousness                         246945 non-null  int64 \n",
      " 2   depression                                      246945 non-null  int64 \n",
      " 3   shortness of breath                             246945 non-null  int64 \n",
      " 4   depressive or psychotic symptoms                246945 non-null  int64 \n",
      " 5   sharp chest pain                                246945 non-null  int64 \n",
      " 6   dizziness                                       246945 non-null  int64 \n",
      " 7   insomnia                                        246945 non-null  int64 \n",
      " 8   abnormal involuntary movements                  246945 non-null  int64 \n",
      " 9   chest tightness                                 246945 non-null  int64 \n",
      " 10  sore throat                                     246945 non-null  int64 \n",
      " 11  cough                                           246945 non-null  int64 \n",
      " 12  nasal congestion                                246945 non-null  int64 \n",
      " 13  skin swelling                                   246945 non-null  int64 \n",
      " 14  retention of urine                              246945 non-null  int64 \n",
      " 15  leg pain                                        246945 non-null  int64 \n",
      " 16  hip pain                                        246945 non-null  int64 \n",
      " 17  suprapubic pain                                 246945 non-null  int64 \n",
      " 18  blood in stool                                  246945 non-null  int64 \n",
      " 19  hostile behavior                                246945 non-null  int64 \n",
      " 20  sharp abdominal pain                            246945 non-null  int64 \n",
      " 21  vomiting                                        246945 non-null  int64 \n",
      " 22  headache                                        246945 non-null  int64 \n",
      " 23  nausea                                          246945 non-null  int64 \n",
      " 24  diarrhea                                        246945 non-null  int64 \n",
      " 25  painful urination                               246945 non-null  int64 \n",
      " 26  lower abdominal pain                            246945 non-null  int64 \n",
      " 27  arm pain                                        246945 non-null  int64 \n",
      " 28  abnormal appearing skin                         246945 non-null  int64 \n",
      " 29  skin lesion                                     246945 non-null  int64 \n",
      " 30  acne or pimples                                 246945 non-null  int64 \n",
      " 31  facial pain                                     246945 non-null  int64 \n",
      " 32  skin growth                                     246945 non-null  int64 \n",
      " 33  diminished vision                               246945 non-null  int64 \n",
      " 34  symptoms of eye                                 246945 non-null  int64 \n",
      " 35  pain in eye                                     246945 non-null  int64 \n",
      " 36  irregular appearing scalp                       246945 non-null  int64 \n",
      " 37  back pain                                       246945 non-null  int64 \n",
      " 38  neck pain                                       246945 non-null  int64 \n",
      " 39  low back pain                                   246945 non-null  int64 \n",
      " 40  pelvic pain                                     246945 non-null  int64 \n",
      " 41  burning abdominal pain                          246945 non-null  int64 \n",
      " 42  peripheral edema                                246945 non-null  int64 \n",
      " 43  ear pain                                        246945 non-null  int64 \n",
      " 44  knee pain                                       246945 non-null  int64 \n",
      " 45  problems with movement                          246945 non-null  int64 \n",
      " 46  weakness                                        246945 non-null  int64 \n",
      " 47  loss of sensation                               246945 non-null  int64 \n",
      " 48  side pain                                       246945 non-null  int64 \n",
      " 49  fever                                           246945 non-null  int64 \n",
      " 50  shoulder pain                                   246945 non-null  int64 \n",
      " 51  lower body pain                                 246945 non-null  int64 \n",
      " 52  difficulty breathing                            246945 non-null  int64 \n",
      " 53  coryza                                          246945 non-null  int64 \n",
      " 54  itching of skin                                 246945 non-null  int64 \n",
      " 55  skin dryness, peeling, scaliness, or roughness  246945 non-null  int64 \n",
      " 56  skin rash                                       246945 non-null  int64 \n",
      "dtypes: int64(56), object(1)\n",
      "memory usage: 107.4+ MB\n"
     ]
    }
   ],
   "source": [
    "df_filtered.info()"
   ]
  },
  {
   "cell_type": "code",
   "execution_count": 10,
   "metadata": {},
   "outputs": [],
   "source": [
    "df = df[df['diseases'].str.contains('heart', case=False, na=False)]"
   ]
  },
  {
   "cell_type": "code",
   "execution_count": 11,
   "metadata": {},
   "outputs": [],
   "source": [
    "zero_ratios = df.eq(0).mean()\n",
    "\n",
    "# Xác định các cột mà tỷ lệ giá trị 0 vượt qua ngưỡng 90%\n",
    "columns_to_drop = zero_ratios[zero_ratios > 0.97].index\n",
    "\n",
    "# Loại bỏ các cột đó khỏi DataFrame\n",
    "df_filtered = df.drop(columns=columns_to_drop)"
   ]
  },
  {
   "cell_type": "code",
   "execution_count": 12,
   "metadata": {},
   "outputs": [
    {
     "name": "stdout",
     "output_type": "stream",
     "text": [
      "<class 'pandas.core.frame.DataFrame'>\n",
      "Index: 4251 entries, 38583 to 233575\n",
      "Data columns (total 28 columns):\n",
      " #   Column                Non-Null Count  Dtype \n",
      "---  ------                --------------  ----- \n",
      " 0   diseases              4251 non-null   object\n",
      " 1   shortness of breath   4251 non-null   int64 \n",
      " 2   sharp chest pain      4251 non-null   int64 \n",
      " 3   dizziness             4251 non-null   int64 \n",
      " 4   insomnia              4251 non-null   int64 \n",
      " 5   chest tightness       4251 non-null   int64 \n",
      " 6   palpitations          4251 non-null   int64 \n",
      " 7   irregular heartbeat   4251 non-null   int64 \n",
      " 8   cough                 4251 non-null   int64 \n",
      " 9   throat feels tight    4251 non-null   int64 \n",
      " 10  fainting              4251 non-null   int64 \n",
      " 11  nausea                4251 non-null   int64 \n",
      " 12  arm pain              4251 non-null   int64 \n",
      " 13  peripheral edema      4251 non-null   int64 \n",
      " 14  weight gain           4251 non-null   int64 \n",
      " 15  leg swelling          4251 non-null   int64 \n",
      " 16  heartburn             4251 non-null   int64 \n",
      " 17  muscle pain           4251 non-null   int64 \n",
      " 18  weakness              4251 non-null   int64 \n",
      " 19  increased heart rate  4251 non-null   int64 \n",
      " 20  difficulty breathing  4251 non-null   int64 \n",
      " 21  fatigue               4251 non-null   int64 \n",
      " 22  lymphedema            4251 non-null   int64 \n",
      " 23  fluid retention       4251 non-null   int64 \n",
      " 24  recent pregnancy      4251 non-null   int64 \n",
      " 25  burning chest pain    4251 non-null   int64 \n",
      " 26  sweating              4251 non-null   int64 \n",
      " 27  hurts to breath       4251 non-null   int64 \n",
      "dtypes: int64(27), object(1)\n",
      "memory usage: 963.1+ KB\n"
     ]
    }
   ],
   "source": [
    "df_filtered.info()"
   ]
  },
  {
   "cell_type": "code",
   "execution_count": 14,
   "metadata": {},
   "outputs": [],
   "source": [
    "df_filtered.to_csv('./data.csv')"
   ]
  },
  {
   "cell_type": "code",
   "execution_count": 15,
   "metadata": {},
   "outputs": [
    {
     "name": "stdout",
     "output_type": "stream",
     "text": [
      "diseases                            0.000000\n",
      "anxiety and nervousness             1.000000\n",
      "depression                          0.997412\n",
      "shortness of breath                 0.518937\n",
      "depressive or psychotic symptoms    1.000000\n",
      "                                      ...   \n",
      "hip weakness                        1.000000\n",
      "back swelling                       1.000000\n",
      "ankle stiffness or tightness        1.000000\n",
      "ankle weakness                      1.000000\n",
      "neck weakness                       1.000000\n",
      "Length: 378, dtype: float64\n"
     ]
    }
   ],
   "source": [
    "zero_ratios = df.eq(0).mean()\n",
    "\n",
    "print(zero_ratios)"
   ]
  },
  {
   "cell_type": "code",
   "execution_count": null,
   "metadata": {},
   "outputs": [],
   "source": []
  }
 ],
 "metadata": {
  "kernelspec": {
   "display_name": ".venv",
   "language": "python",
   "name": "python3"
  },
  "language_info": {
   "codemirror_mode": {
    "name": "ipython",
    "version": 3
   },
   "file_extension": ".py",
   "mimetype": "text/x-python",
   "name": "python",
   "nbconvert_exporter": "python",
   "pygments_lexer": "ipython3",
   "version": "3.11.9"
  }
 },
 "nbformat": 4,
 "nbformat_minor": 2
}
